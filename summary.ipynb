{
 "cells": [
  {
   "cell_type": "code",
   "execution_count": 1,
   "metadata": {
    "ExecuteTime": {
     "end_time": "2022-02-05T06:40:41.901880Z",
     "start_time": "2022-02-05T06:40:41.656760Z"
    }
   },
   "outputs": [],
   "source": [
    "import os\n",
    "import pandas as pd\n",
    "import numpy as np"
   ]
  },
  {
   "cell_type": "code",
   "execution_count": 2,
   "metadata": {
    "ExecuteTime": {
     "end_time": "2022-02-05T06:40:43.222852Z",
     "start_time": "2022-02-05T06:40:42.973494Z"
    }
   },
   "outputs": [],
   "source": [
    "import config\n",
    "import helpers\n",
    "#filename = './Auswertung_Susanne.xlsx'\n",
    "filename = './wearcheck_Jenbacher S Oil.xlsx'"
   ]
  },
  {
   "cell_type": "code",
   "execution_count": 3,
   "metadata": {},
   "outputs": [],
   "source": [
    "fields = ['Unique Code','General Description','Oil/Fluid Long Name','Unit Hours','Oil/Fluid Hours'] # auf die benötigten Felder beschränken\n",
    "xdf = pd.read_excel(filename)[fields]\n",
    "corr_xdf = xdf.applymap(helpers.corr) # correct the contents\n",
    "# alle Öle im file ermitteln"
   ]
  },
  {
   "cell_type": "code",
   "execution_count": 10,
   "metadata": {},
   "outputs": [],
   "source": [
    "corr_xdf;"
   ]
  },
  {
   "cell_type": "code",
   "execution_count": 5,
   "metadata": {},
   "outputs": [
    {
     "name": "stdout",
     "output_type": "stream",
     "text": [
      "['Mobil Pegasus 705', 'Jenbacher S Oil 40', 'Chevron HDAX 6500 LFG 40', 'Q8 EL-4825', 'CASTROL DURATEC L', 'Mobil Pegasus 610', 'Mobil Pegasus 710', 'Q8 Mahler GR5 SAE40', 'Jenbacher N Oil 40', 'Mobil Pegasus 605 Ultra 40', 'Q8 Mahler GR8', 'CASTROL DURATEC MX']\n"
     ]
    }
   ],
   "source": [
    "result = {\n",
    "    'Zeilen': [],\n",
    "    'Eindeutige Motoren': [],\n",
    "    'gültige Motoren': [],\n",
    "    'Kumulierte Öl Stunden': [],\n",
    "    'Mittlere Öl Stunden pro gültigem Motor': [],\n",
    "    }\n",
    "columns = list(corr_xdf['Oil/Fluid Long Name'].unique())\n",
    "print(columns)"
   ]
  },
  {
   "cell_type": "code",
   "execution_count": 6,
   "metadata": {},
   "outputs": [],
   "source": [
    "for oil_name in columns:\n",
    "    new_xdf = corr_xdf[corr_xdf['Oil/Fluid Long Name'] == oil_name] # nur die Zeilen mit 'oil_name' ausfiltern\n",
    "    uniquecodes = new_xdf['Unique Code'].unique() # Alle Unique Codes der Motoren auslesen - nur unterschiedliche codes kommen in die Liste\n",
    "    No_of_Engines = len(uniquecodes)\n",
    "    result['Zeilen'].append(new_xdf.shape[0])\n",
    "    result['Eindeutige Motoren'].append(No_of_Engines)\n",
    "    if new_xdf.shape[0] == 0: #no enties found\n",
    "        raise ValueError(f\"kein Öl mit Namen '{oil_name}' in '{os.path.basename(filename)}' gefunden.\")\n",
    "    oil_sum = 0\n",
    "    count_sum = 0\n",
    "    for u in uniquecodes:\n",
    "        df = new_xdf[new_xdf['Unique Code'] == u].sort_values(by = ['Unit Hours'],ascending=[True])\n",
    "        try: #try to calculate oil running hours\n",
    "            oil_age = df['Unit Hours'].max() - df['Unit Hours'].min() + df.iloc[0]['Oil/Fluid Hours']\n",
    "            if oil_age == oil_age: #this is a trick to check for NAN\n",
    "                oil_sum += oil_age\n",
    "                count_sum += 1\n",
    "        except Exception:\n",
    "            pass # do nothing on entry rows with missing parameters.\n",
    "    result['gültige Motoren'].append(count_sum)\n",
    "    result['Kumulierte Öl Stunden'].append(int(f\"{oil_sum:0.0f}\"))\n",
    "    result['Mittlere Öl Stunden pro gültigem Motor'].append(int(f\"{oil_sum / count_sum:0.0f}\"))"
   ]
  },
  {
   "cell_type": "code",
   "execution_count": 13,
   "metadata": {},
   "outputs": [
    {
     "data": {
      "text/plain": [
       "{'Zeilen': [411, 480, 7, 9, 59, 120, 50, 90, 2, 43, 35, 4],\n",
       " 'Eindeutige Motoren': [16, 39, 1, 2, 2, 4, 3, 2, 1, 1, 2, 1],\n",
       " 'gültige Motoren': [16, 37, 1, 2, 2, 4, 3, 2, 1, 1, 2, 1],\n",
       " 'Kumulierte Öl Stunden': [155126,\n",
       "  226693,\n",
       "  5802,\n",
       "  3794,\n",
       "  21324,\n",
       "  51004,\n",
       "  17737,\n",
       "  26467,\n",
       "  3233,\n",
       "  14235,\n",
       "  14917,\n",
       "  3396],\n",
       " 'Mittlere Öl Stunden pro gültigem Motor': [9695,\n",
       "  6127,\n",
       "  5802,\n",
       "  1897,\n",
       "  10662,\n",
       "  12751,\n",
       "  5912,\n",
       "  13234,\n",
       "  3233,\n",
       "  14235,\n",
       "  7458,\n",
       "  3396],\n",
       " ' ': ['', '', '', '', '', '', '', '', '', '', '', ''],\n",
       " 'Datum': [Timestamp('2022-02-06 16:49:40.668333'),\n",
       "  '',\n",
       "  '',\n",
       "  '',\n",
       "  '',\n",
       "  '',\n",
       "  '',\n",
       "  '',\n",
       "  '',\n",
       "  '',\n",
       "  '',\n",
       "  ''],\n",
       " 'Datei': ['wearcheck_Jenbacher S Oil.xlsx',\n",
       "  '',\n",
       "  '',\n",
       "  '',\n",
       "  '',\n",
       "  '',\n",
       "  '',\n",
       "  '',\n",
       "  '',\n",
       "  '',\n",
       "  '',\n",
       "  '']}"
      ]
     },
     "execution_count": 13,
     "metadata": {},
     "output_type": "execute_result"
    }
   ],
   "source": [
    "result[' '] = ['']*len(columns)\n",
    "result['Datum'] = [pd.Timestamp.now()] + ['']* (len(columns)-1)\n",
    "result['Datei'] = [os.path.basename(filename)]  + ['']* (len(columns)-1)\n",
    "\n",
    "result;"
   ]
  },
  {
   "cell_type": "code",
   "execution_count": 14,
   "metadata": {},
   "outputs": [],
   "source": [
    "rdf = pd.DataFrame.from_dict(result, columns=columns, orient='index')\n",
    "#logging.info(f\"Exporting Zusammenfassung to {config.zoutfile}.\")\n",
    "rdf.to_excel(config.zoutfile)\n",
    "#print(rdf)\n",
    "#os.startfile(config.zoutfile)"
   ]
  },
  {
   "cell_type": "code",
   "execution_count": null,
   "metadata": {},
   "outputs": [],
   "source": [
    "import pandas as pd\n",
    "t = {\n",
    "    'A':[1,2,3,4],\n",
    "    'B':[1,2,3,4],\n",
    "    'C':[1,2,3,4],\n",
    "    'D':[1,2,3,4],\n",
    "    'E':[1,2,3,4],\n",
    "    ' ':['','','',''],\n",
    "    'Datum':['1.1.2122','','',''],\n",
    "    'Datei':['jhgfjhg','','','']\n",
    "}\n",
    "tdf = pd.DataFrame.from_dict(t, columns=['Eins','Zwei','Drei','Vier'], orient='index')\n",
    "tdf.to_excel(config.zoutfile)"
   ]
  }
 ],
 "metadata": {
  "hide_input": false,
  "interpreter": {
   "hash": "00e7f18031541dc25b2d1c6c1f90e0b122a906b1440859c87878a4f6b4e1a002"
  },
  "kernelspec": {
   "display_name": "Python 3 (ipykernel)",
   "language": "python",
   "name": "python3"
  },
  "language_info": {
   "codemirror_mode": {
    "name": "ipython",
    "version": 3
   },
   "file_extension": ".py",
   "mimetype": "text/x-python",
   "name": "python",
   "nbconvert_exporter": "python",
   "pygments_lexer": "ipython3",
   "version": "3.9.7"
  },
  "varInspector": {
   "cols": {
    "lenName": 16,
    "lenType": 16,
    "lenVar": 40
   },
   "kernels_config": {
    "python": {
     "delete_cmd_postfix": "",
     "delete_cmd_prefix": "del ",
     "library": "var_list.py",
     "varRefreshCmd": "print(var_dic_list())"
    },
    "r": {
     "delete_cmd_postfix": ") ",
     "delete_cmd_prefix": "rm(",
     "library": "var_list.r",
     "varRefreshCmd": "cat(var_dic_list()) "
    }
   },
   "types_to_exclude": [
    "module",
    "function",
    "builtin_function_or_method",
    "instance",
    "_Feature"
   ],
   "window_display": false
  }
 },
 "nbformat": 4,
 "nbformat_minor": 2
}
