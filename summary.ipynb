{
 "cells": [
  {
   "cell_type": "code",
   "execution_count": 1,
   "metadata": {
    "ExecuteTime": {
     "end_time": "2022-02-05T06:40:41.901880Z",
     "start_time": "2022-02-05T06:40:41.656760Z"
    }
   },
   "outputs": [],
   "source": [
    "import os\n",
    "import pandas as pd\n",
    "import numpy as np"
   ]
  },
  {
   "cell_type": "code",
   "execution_count": 2,
   "metadata": {
    "ExecuteTime": {
     "end_time": "2022-02-05T06:40:43.222852Z",
     "start_time": "2022-02-05T06:40:42.973494Z"
    }
   },
   "outputs": [],
   "source": [
    "import config\n",
    "import helpers\n",
    "from openpyxl.utils.dataframe import dataframe_to_rows\n",
    "from openpyxl import load_workbook\n",
    "from itertools import islice\n",
    "#filename = './Auswertung_Susanne.xlsx'\n",
    "#filename = './wearcheck_Jenbacher S Oil.xlsx'\n",
    "#filename = './test.xlsx'\n",
    "filename = './csv_converted.xlsx'"
   ]
  },
  {
   "cell_type": "code",
   "execution_count": 3,
   "metadata": {},
   "outputs": [],
   "source": [
    "fields = ['Unique Code','General Description','Oil/Fluid Long Name','Unit Hours','Oil/Fluid Hours'] # auf die benötigten Felder beschränken"
   ]
  },
  {
   "cell_type": "code",
   "execution_count": 4,
   "metadata": {},
   "outputs": [],
   "source": [
    "\n",
    "wb = load_workbook(filename)\n",
    "wbsheets = wb.sheetnames\n",
    "ws0 = wb[wbsheets[0]]\n",
    "data = ws0.values\n",
    "cols = next(data)[1:]\n",
    "data = list(data)\n",
    "idx = [r[0] for r in data]\n",
    "data = (islice(r, 1, None) for r in data)\n",
    "xdf = pd.DataFrame(data, index=idx, columns=cols)\n",
    "#xdf = pd.DataFrame(data, columns=cols)\n",
    "xdf = xdf[fields]\n"
   ]
  },
  {
   "cell_type": "code",
   "execution_count": 5,
   "metadata": {},
   "outputs": [],
   "source": [
    "#xdf = pd.read_excel(filename)[fields]"
   ]
  },
  {
   "cell_type": "code",
   "execution_count": 6,
   "metadata": {},
   "outputs": [
    {
     "data": {
      "text/html": [
       "<div>\n",
       "<style scoped>\n",
       "    .dataframe tbody tr th:only-of-type {\n",
       "        vertical-align: middle;\n",
       "    }\n",
       "\n",
       "    .dataframe tbody tr th {\n",
       "        vertical-align: top;\n",
       "    }\n",
       "\n",
       "    .dataframe thead th {\n",
       "        text-align: right;\n",
       "    }\n",
       "</style>\n",
       "<table border=\"1\" class=\"dataframe\">\n",
       "  <thead>\n",
       "    <tr style=\"text-align: right;\">\n",
       "      <th></th>\n",
       "      <th>Unique Code</th>\n",
       "      <th>General Description</th>\n",
       "      <th>Oil/Fluid Long Name</th>\n",
       "      <th>Unit Hours</th>\n",
       "      <th>Oil/Fluid Hours</th>\n",
       "    </tr>\n",
       "  </thead>\n",
       "  <tbody>\n",
       "    <tr>\n",
       "      <th>4301368</th>\n",
       "      <td>1445343 Z588</td>\n",
       "      <td>BGA Günther I - Container Nord</td>\n",
       "      <td>Mobil Pegasus 605 Ultra</td>\n",
       "      <td>220.0</td>\n",
       "      <td>220.0</td>\n",
       "    </tr>\n",
       "    <tr>\n",
       "      <th>4301370</th>\n",
       "      <td>1445343 Z588</td>\n",
       "      <td>BGA Günther I - Container Nord</td>\n",
       "      <td>Mobil Pegasus 605 Ultra</td>\n",
       "      <td>388.0</td>\n",
       "      <td>168.0</td>\n",
       "    </tr>\n",
       "  </tbody>\n",
       "</table>\n",
       "</div>"
      ],
      "text/plain": [
       "          Unique Code             General Description  \\\n",
       "4301368  1445343 Z588  BGA Günther I - Container Nord   \n",
       "4301370  1445343 Z588  BGA Günther I - Container Nord   \n",
       "\n",
       "             Oil/Fluid Long Name  Unit Hours  Oil/Fluid Hours  \n",
       "4301368  Mobil Pegasus 605 Ultra       220.0            220.0  \n",
       "4301370  Mobil Pegasus 605 Ultra       388.0            168.0  "
      ]
     },
     "execution_count": 6,
     "metadata": {},
     "output_type": "execute_result"
    }
   ],
   "source": [
    "xdf.head(2)"
   ]
  },
  {
   "cell_type": "code",
   "execution_count": 7,
   "metadata": {},
   "outputs": [
    {
     "data": {
      "text/html": [
       "<div>\n",
       "<style scoped>\n",
       "    .dataframe tbody tr th:only-of-type {\n",
       "        vertical-align: middle;\n",
       "    }\n",
       "\n",
       "    .dataframe tbody tr th {\n",
       "        vertical-align: top;\n",
       "    }\n",
       "\n",
       "    .dataframe thead th {\n",
       "        text-align: right;\n",
       "    }\n",
       "</style>\n",
       "<table border=\"1\" class=\"dataframe\">\n",
       "  <thead>\n",
       "    <tr style=\"text-align: right;\">\n",
       "      <th></th>\n",
       "      <th>Unique Code</th>\n",
       "      <th>General Description</th>\n",
       "      <th>Oil/Fluid Long Name</th>\n",
       "      <th>Unit Hours</th>\n",
       "      <th>Oil/Fluid Hours</th>\n",
       "    </tr>\n",
       "  </thead>\n",
       "  <tbody>\n",
       "    <tr>\n",
       "      <th>4301368</th>\n",
       "      <td>1445343 Z588</td>\n",
       "      <td>BGA Günther I - Container Nord</td>\n",
       "      <td>Mobil Pegasus 605 Ultra</td>\n",
       "      <td>220.0</td>\n",
       "      <td>220.0</td>\n",
       "    </tr>\n",
       "    <tr>\n",
       "      <th>4301370</th>\n",
       "      <td>1445343 Z588</td>\n",
       "      <td>BGA Günther I - Container Nord</td>\n",
       "      <td>Mobil Pegasus 605 Ultra</td>\n",
       "      <td>388.0</td>\n",
       "      <td>168.0</td>\n",
       "    </tr>\n",
       "    <tr>\n",
       "      <th>3289304</th>\n",
       "      <td>1164601 T749</td>\n",
       "      <td>Spie Fujitsu Augsburg</td>\n",
       "      <td>Fuchs Titan Ganymet Ultra</td>\n",
       "      <td>9684.0</td>\n",
       "      <td>3948.0</td>\n",
       "    </tr>\n",
       "    <tr>\n",
       "      <th>3625990</th>\n",
       "      <td>1320161 V040</td>\n",
       "      <td>BGA Menz II</td>\n",
       "      <td>Total Nateria MP 40</td>\n",
       "      <td>4030.0</td>\n",
       "      <td>1980.0</td>\n",
       "    </tr>\n",
       "    <tr>\n",
       "      <th>4212154</th>\n",
       "      <td>1313076 U819</td>\n",
       "      <td>Klärschlammvergasung Koblenz</td>\n",
       "      <td>Fuchs Titan Ganymet Ultra</td>\n",
       "      <td>477.0</td>\n",
       "      <td>NaN</td>\n",
       "    </tr>\n",
       "    <tr>\n",
       "      <th>...</th>\n",
       "      <td>...</td>\n",
       "      <td>...</td>\n",
       "      <td>...</td>\n",
       "      <td>...</td>\n",
       "      <td>...</td>\n",
       "    </tr>\n",
       "    <tr>\n",
       "      <th>3640619</th>\n",
       "      <td>1166070 T787</td>\n",
       "      <td>BHKW Donautal Geflügel II</td>\n",
       "      <td>Mobil Pegasus 705</td>\n",
       "      <td>14277.0</td>\n",
       "      <td>1283.0</td>\n",
       "    </tr>\n",
       "    <tr>\n",
       "      <th>3640621</th>\n",
       "      <td>1166070 T787</td>\n",
       "      <td>BHKW Donautal Geflügel II</td>\n",
       "      <td>Mobil Pegasus 705</td>\n",
       "      <td>13693.0</td>\n",
       "      <td>698.0</td>\n",
       "    </tr>\n",
       "    <tr>\n",
       "      <th>3818292</th>\n",
       "      <td>1166070 T787</td>\n",
       "      <td>BHKW Donautal Geflügel II</td>\n",
       "      <td>Mobil Pegasus 705</td>\n",
       "      <td>18387.0</td>\n",
       "      <td>530.0</td>\n",
       "    </tr>\n",
       "    <tr>\n",
       "      <th>3640614</th>\n",
       "      <td>1166074 T787</td>\n",
       "      <td>BHKW Donautal Geflügel I</td>\n",
       "      <td>Mobil Pegasus 705</td>\n",
       "      <td>12542.0</td>\n",
       "      <td>2000.0</td>\n",
       "    </tr>\n",
       "    <tr>\n",
       "      <th>3818285</th>\n",
       "      <td>1166074 T787</td>\n",
       "      <td>BHKW Donautal Geflügel I</td>\n",
       "      <td>Mobil Pegasus 705</td>\n",
       "      <td>17848.0</td>\n",
       "      <td>916.0</td>\n",
       "    </tr>\n",
       "  </tbody>\n",
       "</table>\n",
       "<p>100 rows × 5 columns</p>\n",
       "</div>"
      ],
      "text/plain": [
       "          Unique Code             General Description  \\\n",
       "4301368  1445343 Z588  BGA Günther I - Container Nord   \n",
       "4301370  1445343 Z588  BGA Günther I - Container Nord   \n",
       "3289304  1164601 T749           Spie Fujitsu Augsburg   \n",
       "3625990  1320161 V040                     BGA Menz II   \n",
       "4212154  1313076 U819    Klärschlammvergasung Koblenz   \n",
       "...               ...                             ...   \n",
       "3640619  1166070 T787       BHKW Donautal Geflügel II   \n",
       "3640621  1166070 T787       BHKW Donautal Geflügel II   \n",
       "3818292  1166070 T787       BHKW Donautal Geflügel II   \n",
       "3640614  1166074 T787        BHKW Donautal Geflügel I   \n",
       "3818285  1166074 T787        BHKW Donautal Geflügel I   \n",
       "\n",
       "               Oil/Fluid Long Name  Unit Hours  Oil/Fluid Hours  \n",
       "4301368    Mobil Pegasus 605 Ultra       220.0            220.0  \n",
       "4301370    Mobil Pegasus 605 Ultra       388.0            168.0  \n",
       "3289304  Fuchs Titan Ganymet Ultra      9684.0           3948.0  \n",
       "3625990        Total Nateria MP 40      4030.0           1980.0  \n",
       "4212154  Fuchs Titan Ganymet Ultra       477.0              NaN  \n",
       "...                            ...         ...              ...  \n",
       "3640619          Mobil Pegasus 705     14277.0           1283.0  \n",
       "3640621          Mobil Pegasus 705     13693.0            698.0  \n",
       "3818292          Mobil Pegasus 705     18387.0            530.0  \n",
       "3640614          Mobil Pegasus 705     12542.0           2000.0  \n",
       "3818285          Mobil Pegasus 705     17848.0            916.0  \n",
       "\n",
       "[100 rows x 5 columns]"
      ]
     },
     "execution_count": 7,
     "metadata": {},
     "output_type": "execute_result"
    }
   ],
   "source": [
    "corr_xdf = xdf.applymap(helpers.corr) # correct the contents\n",
    "corr_xdf"
   ]
  },
  {
   "cell_type": "code",
   "execution_count": 8,
   "metadata": {},
   "outputs": [
    {
     "name": "stdout",
     "output_type": "stream",
     "text": [
      "['Mobil Pegasus 605 Ultra', 'Fuchs Titan Ganymet Ultra', 'Total Nateria MP 40', 'keine Angabe', 'Tectrol MethaFlexx HC premium', 'Mobil Pegasus 705', 'Petro-Canada Sentron LD 5000', 'Addinol GMO MG 40 Extra LA', 'Tectrol MethaFlexx Premium', 'Tectrol MethaFlexx premium', 'Mobil Pegasus 710', 'Mobil Pegasus 610', 'Addinol Gas Engine Oil NG 40', 'Fuchs Ganymet 40', 'Haertol Frostox W35/65', 'Q8 Mahler G5 SAE 40']\n"
     ]
    }
   ],
   "source": [
    "result = {\n",
    "    'Zeilen': [],\n",
    "    'Eindeutige Motoren': [],\n",
    "    'gültige Motoren': [],\n",
    "    'Kumulierte Öl Stunden': [],\n",
    "    'Mittlere Öl Stunden pro gültigem Motor': [],\n",
    "    }\n",
    "columns = list(corr_xdf['Oil/Fluid Long Name'].unique())\n",
    "print(columns)"
   ]
  },
  {
   "cell_type": "code",
   "execution_count": 9,
   "metadata": {},
   "outputs": [],
   "source": [
    "for oil_name in columns:\n",
    "    new_xdf = corr_xdf[corr_xdf['Oil/Fluid Long Name'] == oil_name] # nur die Zeilen mit 'oil_name' ausfiltern\n",
    "    uniquecodes = new_xdf['Unique Code'].unique() # Alle Unique Codes der Motoren auslesen - nur unterschiedliche codes kommen in die Liste\n",
    "    No_of_Engines = len(uniquecodes)\n",
    "    result['Zeilen'].append(new_xdf.shape[0])\n",
    "    result['Eindeutige Motoren'].append(No_of_Engines)\n",
    "    if new_xdf.shape[0] == 0: #no enties found\n",
    "        raise ValueError(f\"kein Öl mit Namen '{oil_name}' in '{os.path.basename(filename)}' gefunden.\")\n",
    "    oil_sum = 0\n",
    "    count_sum = 0\n",
    "    for u in uniquecodes:\n",
    "        df = new_xdf[new_xdf['Unique Code'] == u].sort_values(by = ['Unit Hours'],ascending=[True])\n",
    "        try: #try to calculate oil running hours\n",
    "            oil_age = df['Unit Hours'].max() - df['Unit Hours'].min() + df.iloc[0]['Oil/Fluid Hours']\n",
    "            if oil_age == oil_age: #this is a trick to check for NAN\n",
    "                oil_sum += oil_age\n",
    "                count_sum += 1\n",
    "        except Exception:\n",
    "            pass # do nothing on entry rows with missing parameters.\n",
    "    result['gültige Motoren'].append(count_sum)\n",
    "    result['Kumulierte Öl Stunden'].append(int(f\"{oil_sum:0.0f}\"))\n",
    "    result['Mittlere Öl Stunden pro gültigem Motor'].append(int(f\"{oil_sum / (count_sum or 1):0.0f}\"))"
   ]
  },
  {
   "cell_type": "code",
   "execution_count": 10,
   "metadata": {},
   "outputs": [],
   "source": [
    "result[' '] = ['']*len(columns)\n",
    "result['Datum'] = [pd.Timestamp.now()] + ['']* (len(columns)-1)\n",
    "result['Datei'] = [os.path.basename(filename)]  + ['']* (len(columns)-1)\n",
    "\n",
    "result;"
   ]
  },
  {
   "cell_type": "code",
   "execution_count": 11,
   "metadata": {},
   "outputs": [],
   "source": [
    "rdf = pd.DataFrame.from_dict(result, columns=columns, orient='index')\n",
    "#logging.info(f\"Exporting Zusammenfassung to {config.zoutfile}.\")\n",
    "#rdf.to_excel(config.zoutfile)\n",
    "#print(rdf)\n",
    "#os.startfile(config.zoutfile)"
   ]
  },
  {
   "cell_type": "code",
   "execution_count": null,
   "metadata": {},
   "outputs": [],
   "source": [
    "wb.create_sheet('Zusammenfassung')\n",
    "wbsheets = wb.sheetnames\n",
    "ws = wb[wbsheets[-1]]\n",
    "for r in dataframe_to_rows(rdf, index=True, header=True):\n",
    "    ws.append(r)\n",
    "wb.save(filename)\n",
    "wb.close()"
   ]
  },
  {
   "cell_type": "code",
   "execution_count": null,
   "metadata": {},
   "outputs": [],
   "source": [
    "import pandas as pd\n",
    "t = {\n",
    "    'A':[1,2,3,4],\n",
    "    'B':[1,2,3,4],\n",
    "    'C':[1,2,3,4],\n",
    "    'D':[1,2,3,4],\n",
    "    'E':[1,2,3,4],\n",
    "    ' ':['','','',''],\n",
    "    'Datum':['1.1.2122','','',''],\n",
    "    'Datei':['jhgfjhg','','','']\n",
    "}\n",
    "tdf = pd.DataFrame.from_dict(t, columns=['Eins','Zwei','Drei','Vier'], orient='index')\n",
    "#tdf.to_excel(config.zoutfile)"
   ]
  },
  {
   "cell_type": "code",
   "execution_count": null,
   "metadata": {},
   "outputs": [],
   "source": [
    "from openpyxl import load_workbook\n",
    "from openpyxl.utils.dataframe import dataframe_to_rows\n",
    "wb = load_workbook('./test.xlsx')\n",
    "print(wb.sheetnames)\n",
    "wb.create_sheet('Zusammenfassung')\n",
    "sheets = wb.sheetnames\n",
    "print(sheets)\n",
    "ws = wb[sheets[-1]]\n",
    "print(ws.title)\n",
    "for r in dataframe_to_rows(tdf, index=True, header=True):\n",
    "    ws.append(r)\n",
    "wb.save('./test.xlsx')\n",
    "wb.close()"
   ]
  }
 ],
 "metadata": {
  "hide_input": false,
  "interpreter": {
   "hash": "00e7f18031541dc25b2d1c6c1f90e0b122a906b1440859c87878a4f6b4e1a002"
  },
  "kernelspec": {
   "display_name": "Python 3 (ipykernel)",
   "language": "python",
   "name": "python3"
  },
  "language_info": {
   "codemirror_mode": {
    "name": "ipython",
    "version": 3
   },
   "file_extension": ".py",
   "mimetype": "text/x-python",
   "name": "python",
   "nbconvert_exporter": "python",
   "pygments_lexer": "ipython3",
   "version": "3.9.7"
  },
  "varInspector": {
   "cols": {
    "lenName": 16,
    "lenType": 16,
    "lenVar": 40
   },
   "kernels_config": {
    "python": {
     "delete_cmd_postfix": "",
     "delete_cmd_prefix": "del ",
     "library": "var_list.py",
     "varRefreshCmd": "print(var_dic_list())"
    },
    "r": {
     "delete_cmd_postfix": ") ",
     "delete_cmd_prefix": "rm(",
     "library": "var_list.r",
     "varRefreshCmd": "cat(var_dic_list()) "
    }
   },
   "types_to_exclude": [
    "module",
    "function",
    "builtin_function_or_method",
    "instance",
    "_Feature"
   ],
   "window_display": false
  }
 },
 "nbformat": 4,
 "nbformat_minor": 2
}
