{
 "cells": [
  {
   "cell_type": "code",
   "execution_count": 1,
   "metadata": {
    "ExecuteTime": {
     "end_time": "2022-02-05T06:40:41.901880Z",
     "start_time": "2022-02-05T06:40:41.656760Z"
    }
   },
   "outputs": [],
   "source": [
    "import pandas as pd\n",
    "import numpy as np"
   ]
  },
  {
   "cell_type": "code",
   "execution_count": 2,
   "metadata": {
    "ExecuteTime": {
     "end_time": "2022-02-05T06:40:43.222852Z",
     "start_time": "2022-02-05T06:40:42.973494Z"
    }
   },
   "outputs": [],
   "source": [
    "import config\n",
    "import helpers\n",
    "#xdf = pd.read_excel('C:/Users/chvatdi00/Documents/Python Scripts/Spectro/Auswertung_Susanne_Header.xlsx')\n",
    "#ne = xdf['Unique Code'].nunique()\n",
    "#print(f\"Number of Engines in File: {ne}\")\n",
    "\n",
    "# Das Header File der Auswertung als \"Template\" einlesen\n",
    "xdf = pd.read_excel(config.xltemplates, engine='openpyxl')"
   ]
  },
  {
   "cell_type": "code",
   "execution_count": 3,
   "metadata": {
    "ExecuteTime": {
     "end_time": "2022-02-05T06:40:44.522892Z",
     "start_time": "2022-02-05T06:40:44.517506Z"
    }
   },
   "outputs": [],
   "source": [
    "tmpl = xdf.to_dict(orient='list')\n",
    "tmpl;"
   ]
  },
  {
   "cell_type": "code",
   "execution_count": 9,
   "metadata": {},
   "outputs": [
    {
     "data": {
      "text/plain": [
       "{'encoding': 'Windows-1252', 'delimiter': ','}"
      ]
     },
     "execution_count": 9,
     "metadata": {},
     "output_type": "execute_result"
    }
   ],
   "source": [
    "#filename = 'C:/Users/chvatdi00/Documents/Scripts/oildata/problem.csv'\n",
    "#filename = 'C:/Users/chvatdi00/Documents/Scripts/oildata/spectro_input.csv'\n",
    "filename = './extract-01_02_2022 12_47_41.csv'\n",
    "analysis = helpers.analyze_file(filename)\n",
    "analysis"
   ]
  },
  {
   "cell_type": "code",
   "execution_count": 10,
   "metadata": {
    "ExecuteTime": {
     "end_time": "2022-02-05T06:40:45.482428Z",
     "start_time": "2022-02-05T06:40:45.421641Z"
    }
   },
   "outputs": [],
   "source": [
    "df = pd.read_csv(filename, sep=analysis['delimiter'], encoding=analysis['encoding'])"
   ]
  },
  {
   "cell_type": "code",
   "execution_count": 11,
   "metadata": {
    "ExecuteTime": {
     "end_time": "2022-02-05T06:40:46.614554Z",
     "start_time": "2022-02-05T06:40:46.610436Z"
    }
   },
   "outputs": [
    {
     "data": {
      "text/html": [
       "<div>\n",
       "<style scoped>\n",
       "    .dataframe tbody tr th:only-of-type {\n",
       "        vertical-align: middle;\n",
       "    }\n",
       "\n",
       "    .dataframe tbody tr th {\n",
       "        vertical-align: top;\n",
       "    }\n",
       "\n",
       "    .dataframe thead th {\n",
       "        text-align: right;\n",
       "    }\n",
       "</style>\n",
       "<table border=\"1\" class=\"dataframe\">\n",
       "  <thead>\n",
       "    <tr style=\"text-align: right;\">\n",
       "      <th></th>\n",
       "      <th>LaboratoryReference</th>\n",
       "      <th>UniqueCode</th>\n",
       "      <th>Registration</th>\n",
       "      <th>SerialNumber</th>\n",
       "      <th>DateTaken</th>\n",
       "      <th>ReceiptDate</th>\n",
       "      <th>AnalysisDate</th>\n",
       "      <th>TestSuite</th>\n",
       "      <th>SamplingPoint</th>\n",
       "      <th>Status</th>\n",
       "      <th>...</th>\n",
       "      <th>Viscosity at 80°C NA</th>\n",
       "      <th>Viscosity Index</th>\n",
       "      <th>Viscosity Index D2270</th>\n",
       "      <th>Viscosity at -40°C (Brookfield)</th>\n",
       "      <th>Water</th>\n",
       "      <th>Water Separation</th>\n",
       "      <th>Water Type</th>\n",
       "      <th>Zinc</th>\n",
       "      <th>Zinc D4951</th>\n",
       "      <th>Zinc D5185</th>\n",
       "    </tr>\n",
       "  </thead>\n",
       "  <tbody>\n",
       "    <tr>\n",
       "      <th>GEAG14532</th>\n",
       "      <td>GE0330.0002</td>\n",
       "      <td>-</td>\n",
       "      <td>1075603</td>\n",
       "      <td>10/10/2013</td>\n",
       "      <td>22/10/2013 00:00</td>\n",
       "      <td>25/10/2013 11:31</td>\n",
       "      <td>GEJ-01</td>\n",
       "      <td>-</td>\n",
       "      <td>Normal</td>\n",
       "      <td>-</td>\n",
       "      <td>...</td>\n",
       "      <td>-</td>\n",
       "      <td>-</td>\n",
       "      <td>-</td>\n",
       "      <td>&lt;0.05</td>\n",
       "      <td>-</td>\n",
       "      <td>-</td>\n",
       "      <td>0.0359</td>\n",
       "      <td>-</td>\n",
       "      <td>-</td>\n",
       "      <td>NaN</td>\n",
       "    </tr>\n",
       "    <tr>\n",
       "      <th>GEAG15015</th>\n",
       "      <td>GE0330.0002</td>\n",
       "      <td>-</td>\n",
       "      <td>1075603</td>\n",
       "      <td>21/11/2013</td>\n",
       "      <td>25/11/2013 00:00</td>\n",
       "      <td>29/11/2013 12:38</td>\n",
       "      <td>GEJ-01</td>\n",
       "      <td>-</td>\n",
       "      <td>Normal</td>\n",
       "      <td>-</td>\n",
       "      <td>...</td>\n",
       "      <td>-</td>\n",
       "      <td>-</td>\n",
       "      <td>-</td>\n",
       "      <td>&lt;0.05</td>\n",
       "      <td>-</td>\n",
       "      <td>-</td>\n",
       "      <td>0.0357</td>\n",
       "      <td>-</td>\n",
       "      <td>-</td>\n",
       "      <td>NaN</td>\n",
       "    </tr>\n",
       "    <tr>\n",
       "      <th>GEAG15288</th>\n",
       "      <td>GE0330.0002</td>\n",
       "      <td>-</td>\n",
       "      <td>1075603</td>\n",
       "      <td>11/12/2013</td>\n",
       "      <td>13/12/2013 00:00</td>\n",
       "      <td>19/12/2013 10:24</td>\n",
       "      <td>GEJ-01</td>\n",
       "      <td>-</td>\n",
       "      <td>Normal</td>\n",
       "      <td>-</td>\n",
       "      <td>...</td>\n",
       "      <td>-</td>\n",
       "      <td>-</td>\n",
       "      <td>-</td>\n",
       "      <td>&lt;0.05</td>\n",
       "      <td>-</td>\n",
       "      <td>-</td>\n",
       "      <td>0.0350</td>\n",
       "      <td>-</td>\n",
       "      <td>-</td>\n",
       "      <td>NaN</td>\n",
       "    </tr>\n",
       "    <tr>\n",
       "      <th>GEAG15761</th>\n",
       "      <td>GE0330.0002</td>\n",
       "      <td>-</td>\n",
       "      <td>1075603</td>\n",
       "      <td>14/01/2014</td>\n",
       "      <td>17/01/2014 00:00</td>\n",
       "      <td>24/01/2014 12:33</td>\n",
       "      <td>GEJ-01</td>\n",
       "      <td>-</td>\n",
       "      <td>Normal</td>\n",
       "      <td>-</td>\n",
       "      <td>...</td>\n",
       "      <td>-</td>\n",
       "      <td>-</td>\n",
       "      <td>-</td>\n",
       "      <td>&lt;0.05</td>\n",
       "      <td>-</td>\n",
       "      <td>-</td>\n",
       "      <td>0.0376</td>\n",
       "      <td>-</td>\n",
       "      <td>-</td>\n",
       "      <td>NaN</td>\n",
       "    </tr>\n",
       "    <tr>\n",
       "      <th>GEAG16057</th>\n",
       "      <td>GE0330.0002</td>\n",
       "      <td>-</td>\n",
       "      <td>1075603</td>\n",
       "      <td>31/01/2014</td>\n",
       "      <td>05/02/2014 00:00</td>\n",
       "      <td>11/02/2014 12:50</td>\n",
       "      <td>GEJ-01</td>\n",
       "      <td>-</td>\n",
       "      <td>Early</td>\n",
       "      <td>-</td>\n",
       "      <td>...</td>\n",
       "      <td>-</td>\n",
       "      <td>-</td>\n",
       "      <td>-</td>\n",
       "      <td>&lt;0.05</td>\n",
       "      <td>-</td>\n",
       "      <td>-</td>\n",
       "      <td>0.0371</td>\n",
       "      <td>-</td>\n",
       "      <td>-</td>\n",
       "      <td>NaN</td>\n",
       "    </tr>\n",
       "    <tr>\n",
       "      <th>...</th>\n",
       "      <td>...</td>\n",
       "      <td>...</td>\n",
       "      <td>...</td>\n",
       "      <td>...</td>\n",
       "      <td>...</td>\n",
       "      <td>...</td>\n",
       "      <td>...</td>\n",
       "      <td>...</td>\n",
       "      <td>...</td>\n",
       "      <td>...</td>\n",
       "      <td>...</td>\n",
       "      <td>...</td>\n",
       "      <td>...</td>\n",
       "      <td>...</td>\n",
       "      <td>...</td>\n",
       "      <td>...</td>\n",
       "      <td>...</td>\n",
       "      <td>...</td>\n",
       "      <td>...</td>\n",
       "      <td>...</td>\n",
       "      <td>...</td>\n",
       "    </tr>\n",
       "    <tr>\n",
       "      <th>GEAG72047</th>\n",
       "      <td>GE0330.0002</td>\n",
       "      <td>-</td>\n",
       "      <td>1075603</td>\n",
       "      <td>18/10/2021</td>\n",
       "      <td>19/10/2021 12:15</td>\n",
       "      <td>25/10/2021 14:25</td>\n",
       "      <td>GEJ-01</td>\n",
       "      <td>-</td>\n",
       "      <td>Early</td>\n",
       "      <td>SW Freiberg</td>\n",
       "      <td>...</td>\n",
       "      <td>-</td>\n",
       "      <td>-</td>\n",
       "      <td>-</td>\n",
       "      <td>&lt;0.05</td>\n",
       "      <td>-</td>\n",
       "      <td>-</td>\n",
       "      <td>0.0506</td>\n",
       "      <td>-</td>\n",
       "      <td>-</td>\n",
       "      <td>NaN</td>\n",
       "    </tr>\n",
       "    <tr>\n",
       "      <th>GEUS1983</th>\n",
       "      <td>GE0330.0002</td>\n",
       "      <td>-</td>\n",
       "      <td>1075603</td>\n",
       "      <td>09/11/2021</td>\n",
       "      <td>12/11/2021 14:34</td>\n",
       "      <td>15/11/2021 14:28</td>\n",
       "      <td>GEJ-01</td>\n",
       "      <td>-</td>\n",
       "      <td>Normal</td>\n",
       "      <td>SW Freiberg</td>\n",
       "      <td>...</td>\n",
       "      <td>-</td>\n",
       "      <td>-</td>\n",
       "      <td>-</td>\n",
       "      <td>&lt;0.05</td>\n",
       "      <td>-</td>\n",
       "      <td>-</td>\n",
       "      <td>0.0492</td>\n",
       "      <td>-</td>\n",
       "      <td>-</td>\n",
       "      <td>NaN</td>\n",
       "    </tr>\n",
       "    <tr>\n",
       "      <th>GEAG72862</th>\n",
       "      <td>GE0330.0002</td>\n",
       "      <td>-</td>\n",
       "      <td>1075603</td>\n",
       "      <td>08/12/2021</td>\n",
       "      <td>09/12/2021 14:00</td>\n",
       "      <td>16/12/2021 20:06</td>\n",
       "      <td>GEJ-01</td>\n",
       "      <td>-</td>\n",
       "      <td>Normal</td>\n",
       "      <td>SW Freiberg</td>\n",
       "      <td>...</td>\n",
       "      <td>-</td>\n",
       "      <td>-</td>\n",
       "      <td>-</td>\n",
       "      <td>&lt;0.05</td>\n",
       "      <td>-</td>\n",
       "      <td>-</td>\n",
       "      <td>0.0496</td>\n",
       "      <td>-</td>\n",
       "      <td>-</td>\n",
       "      <td>NaN</td>\n",
       "    </tr>\n",
       "    <tr>\n",
       "      <th>GEUK45770</th>\n",
       "      <td>GE0330.0002</td>\n",
       "      <td>-</td>\n",
       "      <td>1075603</td>\n",
       "      <td>22/12/2021</td>\n",
       "      <td>30/12/2021 12:30</td>\n",
       "      <td>06/01/2022 15:16</td>\n",
       "      <td>GEJ-01</td>\n",
       "      <td>-</td>\n",
       "      <td>Normal</td>\n",
       "      <td>SW Freiberg</td>\n",
       "      <td>...</td>\n",
       "      <td>-</td>\n",
       "      <td>-</td>\n",
       "      <td>-</td>\n",
       "      <td>&lt;0.05</td>\n",
       "      <td>-</td>\n",
       "      <td>-</td>\n",
       "      <td>0.0543</td>\n",
       "      <td>-</td>\n",
       "      <td>-</td>\n",
       "      <td>NaN</td>\n",
       "    </tr>\n",
       "    <tr>\n",
       "      <th>GEAG73888</th>\n",
       "      <td>GE0330.0002</td>\n",
       "      <td>-</td>\n",
       "      <td>1075603</td>\n",
       "      <td>11/01/2022</td>\n",
       "      <td>13/01/2022 15:12</td>\n",
       "      <td>18/01/2022 13:07</td>\n",
       "      <td>GEJ-01</td>\n",
       "      <td>-</td>\n",
       "      <td>Early</td>\n",
       "      <td>SW Freiberg</td>\n",
       "      <td>...</td>\n",
       "      <td>-</td>\n",
       "      <td>-</td>\n",
       "      <td>-</td>\n",
       "      <td>&lt;0.05</td>\n",
       "      <td>-</td>\n",
       "      <td>-</td>\n",
       "      <td>0.0501</td>\n",
       "      <td>-</td>\n",
       "      <td>-</td>\n",
       "      <td>NaN</td>\n",
       "    </tr>\n",
       "  </tbody>\n",
       "</table>\n",
       "<p>129 rows × 425 columns</p>\n",
       "</div>"
      ],
      "text/plain": [
       "          LaboratoryReference UniqueCode  Registration SerialNumber  \\\n",
       "GEAG14532         GE0330.0002          -       1075603   10/10/2013   \n",
       "GEAG15015         GE0330.0002          -       1075603   21/11/2013   \n",
       "GEAG15288         GE0330.0002          -       1075603   11/12/2013   \n",
       "GEAG15761         GE0330.0002          -       1075603   14/01/2014   \n",
       "GEAG16057         GE0330.0002          -       1075603   31/01/2014   \n",
       "...                       ...        ...           ...          ...   \n",
       "GEAG72047         GE0330.0002          -       1075603   18/10/2021   \n",
       "GEUS1983          GE0330.0002          -       1075603   09/11/2021   \n",
       "GEAG72862         GE0330.0002          -       1075603   08/12/2021   \n",
       "GEUK45770         GE0330.0002          -       1075603   22/12/2021   \n",
       "GEAG73888         GE0330.0002          -       1075603   11/01/2022   \n",
       "\n",
       "                  DateTaken       ReceiptDate AnalysisDate TestSuite  \\\n",
       "GEAG14532  22/10/2013 00:00  25/10/2013 11:31       GEJ-01         -   \n",
       "GEAG15015  25/11/2013 00:00  29/11/2013 12:38       GEJ-01         -   \n",
       "GEAG15288  13/12/2013 00:00  19/12/2013 10:24       GEJ-01         -   \n",
       "GEAG15761  17/01/2014 00:00  24/01/2014 12:33       GEJ-01         -   \n",
       "GEAG16057  05/02/2014 00:00  11/02/2014 12:50       GEJ-01         -   \n",
       "...                     ...               ...          ...       ...   \n",
       "GEAG72047  19/10/2021 12:15  25/10/2021 14:25       GEJ-01         -   \n",
       "GEUS1983   12/11/2021 14:34  15/11/2021 14:28       GEJ-01         -   \n",
       "GEAG72862  09/12/2021 14:00  16/12/2021 20:06       GEJ-01         -   \n",
       "GEUK45770  30/12/2021 12:30  06/01/2022 15:16       GEJ-01         -   \n",
       "GEAG73888  13/01/2022 15:12  18/01/2022 13:07       GEJ-01         -   \n",
       "\n",
       "          SamplingPoint       Status  ... Viscosity at 80°C NA  \\\n",
       "GEAG14532        Normal            -  ...                    -   \n",
       "GEAG15015        Normal            -  ...                    -   \n",
       "GEAG15288        Normal            -  ...                    -   \n",
       "GEAG15761        Normal            -  ...                    -   \n",
       "GEAG16057         Early            -  ...                    -   \n",
       "...                 ...          ...  ...                  ...   \n",
       "GEAG72047         Early  SW Freiberg  ...                    -   \n",
       "GEUS1983         Normal  SW Freiberg  ...                    -   \n",
       "GEAG72862        Normal  SW Freiberg  ...                    -   \n",
       "GEUK45770        Normal  SW Freiberg  ...                    -   \n",
       "GEAG73888         Early  SW Freiberg  ...                    -   \n",
       "\n",
       "          Viscosity Index  Viscosity Index D2270  \\\n",
       "GEAG14532               -                      -   \n",
       "GEAG15015               -                      -   \n",
       "GEAG15288               -                      -   \n",
       "GEAG15761               -                      -   \n",
       "GEAG16057               -                      -   \n",
       "...                   ...                    ...   \n",
       "GEAG72047               -                      -   \n",
       "GEUS1983                -                      -   \n",
       "GEAG72862               -                      -   \n",
       "GEUK45770               -                      -   \n",
       "GEAG73888               -                      -   \n",
       "\n",
       "           Viscosity at -40°C (Brookfield) Water  Water Separation Water Type  \\\n",
       "GEAG14532                            <0.05     -                 -     0.0359   \n",
       "GEAG15015                            <0.05     -                 -     0.0357   \n",
       "GEAG15288                            <0.05     -                 -     0.0350   \n",
       "GEAG15761                            <0.05     -                 -     0.0376   \n",
       "GEAG16057                            <0.05     -                 -     0.0371   \n",
       "...                                    ...   ...               ...        ...   \n",
       "GEAG72047                            <0.05     -                 -     0.0506   \n",
       "GEUS1983                             <0.05     -                 -     0.0492   \n",
       "GEAG72862                            <0.05     -                 -     0.0496   \n",
       "GEUK45770                            <0.05     -                 -     0.0543   \n",
       "GEAG73888                            <0.05     -                 -     0.0501   \n",
       "\n",
       "          Zinc Zinc D4951 Zinc D5185  \n",
       "GEAG14532    -          -        NaN  \n",
       "GEAG15015    -          -        NaN  \n",
       "GEAG15288    -          -        NaN  \n",
       "GEAG15761    -          -        NaN  \n",
       "GEAG16057    -          -        NaN  \n",
       "...        ...        ...        ...  \n",
       "GEAG72047    -          -        NaN  \n",
       "GEUS1983     -          -        NaN  \n",
       "GEAG72862    -          -        NaN  \n",
       "GEUK45770    -          -        NaN  \n",
       "GEAG73888    -          -        NaN  \n",
       "\n",
       "[129 rows x 425 columns]"
      ]
     },
     "execution_count": 11,
     "metadata": {},
     "output_type": "execute_result"
    }
   ],
   "source": [
    "df"
   ]
  },
  {
   "cell_type": "code",
   "execution_count": null,
   "metadata": {
    "ExecuteTime": {
     "end_time": "2022-02-05T06:40:47.823938Z",
     "start_time": "2022-02-05T06:40:47.813017Z"
    }
   },
   "outputs": [],
   "source": [
    "import os\n",
    "\n",
    "tempfile = os.getcwd() + '/data/temp.csv'\n",
    "print(tempfile)\n",
    "if os.path.exists(tempfile):\n",
    "    os.remove(tempfile)\n",
    "\n",
    "in_file = open(filename, \"r\", encoding='cp1250')\n",
    "lines = (l for l in in_file)\n",
    "try:\n",
    "    out_file = open(tempfile, 'w', encoding='utf-8')\n",
    "    for line in lines:\n",
    "        oline = line.replace('\\\"','')\n",
    "        out_file.write(oline)\n",
    "except Exception as err:\n",
    "    print(str(err))\n",
    "finally:\n",
    "    in_file.close()\n",
    "    out_file.close()\n"
   ]
  },
  {
   "cell_type": "code",
   "execution_count": null,
   "metadata": {
    "ExecuteTime": {
     "end_time": "2022-02-05T06:40:49.575257Z",
     "start_time": "2022-02-05T06:40:49.514285Z"
    }
   },
   "outputs": [],
   "source": [
    "sdf = pd.read_csv(tempfile, sep=',', index_col=False)"
   ]
  },
  {
   "cell_type": "code",
   "execution_count": null,
   "metadata": {
    "ExecuteTime": {
     "end_time": "2022-02-05T06:40:52.205627Z",
     "start_time": "2022-02-05T06:40:52.171623Z"
    }
   },
   "outputs": [],
   "source": [
    "sdf.head(2)"
   ]
  },
  {
   "cell_type": "code",
   "execution_count": null,
   "metadata": {
    "ExecuteTime": {
     "end_time": "2022-02-05T07:19:44.516176Z",
     "start_time": "2022-02-05T07:19:44.511213Z"
    }
   },
   "outputs": [],
   "source": [
    "def lookup(key, tmpl, df):\n",
    "    if key in tmpl:\n",
    "        erg = [v for v in tmpl[key] if v in df.columns]\n",
    "        #print(erg)\n",
    "        return erg[0] if erg else np.nan\n",
    "    else:\n",
    "        return np.nan"
   ]
  },
  {
   "cell_type": "code",
   "execution_count": null,
   "metadata": {
    "ExecuteTime": {
     "end_time": "2022-02-05T07:19:45.348885Z",
     "start_time": "2022-02-05T07:19:45.345185Z"
    }
   },
   "outputs": [],
   "source": [
    "tmpl;"
   ]
  },
  {
   "cell_type": "code",
   "execution_count": null,
   "metadata": {
    "ExecuteTime": {
     "end_time": "2022-02-05T07:19:46.116368Z",
     "start_time": "2022-02-05T07:19:46.111012Z"
    }
   },
   "outputs": [],
   "source": [
    "tmpl['Unique Code']"
   ]
  },
  {
   "cell_type": "code",
   "execution_count": null,
   "metadata": {
    "ExecuteTime": {
     "end_time": "2022-02-05T07:19:47.573460Z",
     "start_time": "2022-02-05T07:19:47.568260Z"
    }
   },
   "outputs": [],
   "source": [
    "lookup('Unique Code',tmpl,sdf), lookup('SampleID',tmpl,sdf)"
   ]
  },
  {
   "cell_type": "code",
   "execution_count": null,
   "metadata": {
    "ExecuteTime": {
     "end_time": "2022-02-05T07:19:49.078128Z",
     "start_time": "2022-02-05T07:19:49.071599Z"
    }
   },
   "outputs": [],
   "source": [
    "subkeys = ['SampleID','Unique Code','Oil/Fluid Long Name','Date Taken']\n",
    "transkeys = [lookup(k, tmpl, sdf) for k in subkeys]\n",
    "transkeys"
   ]
  },
  {
   "cell_type": "code",
   "execution_count": null,
   "metadata": {
    "ExecuteTime": {
     "end_time": "2022-02-05T07:19:50.164141Z",
     "start_time": "2022-02-05T07:19:50.147503Z"
    }
   },
   "outputs": [],
   "source": [
    "lookup_table = {k:lookup(k, tmpl, sdf) for k in xdf}\n",
    "lookup_table;"
   ]
  },
  {
   "cell_type": "code",
   "execution_count": null,
   "metadata": {
    "ExecuteTime": {
     "end_time": "2022-02-05T07:19:51.442147Z",
     "start_time": "2022-02-05T07:19:51.418079Z"
    }
   },
   "outputs": [],
   "source": [
    "xdf.head(2)"
   ]
  },
  {
   "cell_type": "code",
   "execution_count": null,
   "metadata": {
    "ExecuteTime": {
     "end_time": "2022-02-05T07:19:52.489895Z",
     "start_time": "2022-02-05T07:19:52.460781Z"
    }
   },
   "outputs": [],
   "source": [
    "sdf.head(2)"
   ]
  },
  {
   "cell_type": "code",
   "execution_count": null,
   "metadata": {
    "ExecuteTime": {
     "end_time": "2022-02-05T07:19:53.760229Z",
     "start_time": "2022-02-05T07:19:53.587670Z"
    }
   },
   "outputs": [],
   "source": [
    "import warnings\n",
    "warnings.simplefilter(action='ignore', category=pd.errors.PerformanceWarning)\n",
    "\n",
    "_df = pd.DataFrame([])\n",
    "for col in xdf.columns:\n",
    "    if lookup_table[col] in sdf.columns:\n",
    "        _df[col] = sdf[lookup_table[col]]\n",
    "    else:\n",
    "        _df[col] = \"\""
   ]
  },
  {
   "cell_type": "code",
   "execution_count": null,
   "metadata": {
    "ExecuteTime": {
     "end_time": "2022-02-05T07:19:55.118654Z",
     "start_time": "2022-02-05T07:19:55.092515Z"
    }
   },
   "outputs": [],
   "source": [
    "_df.head(2)"
   ]
  },
  {
   "cell_type": "code",
   "execution_count": null,
   "metadata": {
    "ExecuteTime": {
     "end_time": "2022-02-05T07:19:56.163218Z",
     "start_time": "2022-02-05T07:19:56.153281Z"
    }
   },
   "outputs": [],
   "source": [
    "import re\n",
    "date_pattern = \"^((\\d{2}[-,/,\\.]){2}\\d{2,4}\\s(\\d{2}:){1,2}\\d{2})(.*)\" #matches all date constructs in spectro csv\n",
    "date_pat = re.compile(date_pattern)\n",
    "num_pattern = \"^[<*]{0,2}([+-]?(\\d+(\\.\\d*)?|\\.\\d+)([eE][+-]?\\d+)?)\\??$\" #matches all number like constructs in spectro csv\n",
    "num_pat = re.compile(num_pattern)\n",
    "\n",
    "def corr2(s):\n",
    "    # s nur dann behandeln, wenn es ein String ist.  \n",
    "    if type(s) == str:\n",
    "        # Leere Felder , Feldee mit '-' und schon vorher leere Felder als None zurücgeben.\n",
    "        # das bedeutet, dass Excel ein leeres Feld an der Stelle anzeigt.\n",
    "        if s in ['', '-', None]:\n",
    "            return None\n",
    "        if num_pat.match(s):\n",
    "            try:\n",
    "                s = float(num_pat.match(s).group(1))\n",
    "                return s\n",
    "            except TypeError as err:\n",
    "                print(f\"{s} raised {str(err)}\")\n",
    "                raise\n",
    "        if date_pat.match(s):\n",
    "            try:\n",
    "                s = pd.to_datetime(date_pat.match(s).group(1))\n",
    "                return s\n",
    "            except ValueError as err:\n",
    "                print(f\"{s} raised {str(err)}\")\n",
    "                raise\n",
    "    return s # s has already a different type than str.     \n",
    "\n",
    "# Umwandels der Datenwerte in Zahlen, z.B. Entfernen von '<' bei '<0.1'\n",
    "def corr(s):\n",
    "    # s nur dann behandeln, wenn es ein String ist.  \n",
    "    if type(s) == str:\n",
    "        # Leere Felder , Feldee mit '-' und schon vorher leere Felder als None zurücgeben.\n",
    "        # das bedeutet, dass Excel ein leeres Feld an der Stelle anzeigt.\n",
    "        if s in ['', '-', None]:\n",
    "            return None\n",
    "        if s[0] == '<':\n",
    "            s = s[1:]\n",
    "        if date_pat.match(s):\n",
    "            try:\n",
    "                s = pd.to_datetime(date_pat.match(s).group(1))\n",
    "                return s\n",
    "            except ValueError as err:\n",
    "                print(f\"{s} raised {str(err)}\")\n",
    "                raise\n",
    "        try:\n",
    "            s = float(s)\n",
    "        except ValueError as err:\n",
    "            pass\n",
    "            #print(f\"float({s}) created Error: {str(err)}\")\n",
    "    return s "
   ]
  },
  {
   "cell_type": "code",
   "execution_count": null,
   "metadata": {
    "ExecuteTime": {
     "end_time": "2022-02-05T07:19:57.151864Z",
     "start_time": "2022-02-05T07:19:57.146204Z"
    }
   },
   "outputs": [],
   "source": [
    "import re\n",
    "pattern = \"^((\\d{2}[-,/,\\.]){2}\\d{2,4}\\s(\\d{2}:){1,2}\\d{2})(.*)\" #matches all date constructs in spectro csv\n",
    "#pattern_wrong =\"^(\\d{2}[-,/,\\.]){2}\\d{2,4}\\s(\\d{2}:){1,2}\\d{2}\\s\\d{2}[-,/,\\.]\\d{2}$\"\n",
    "p = re.compile(pattern)\n",
    "test = ['21/01/2022 07:22 21/01','18/01/2022 11:05:42']\n",
    "for t in test:\n",
    "    print(t, p.match(t), p.match(t).group(1))\n"
   ]
  },
  {
   "cell_type": "code",
   "execution_count": null,
   "metadata": {
    "ExecuteTime": {
     "end_time": "2022-02-05T07:19:58.005943Z",
     "start_time": "2022-02-05T07:19:57.999176Z"
    }
   },
   "outputs": [],
   "source": [
    "import re\n",
    "pattern = \"^[<*]{0,2}([+-]?(\\d+(\\.\\d*)?|\\.\\d+)([eE][+-]?\\d+)?)[\\?\\*]*$\" #matches all number like constructs in spectro csv\n",
    "p = re.compile(pattern)\n",
    "test = ['<<0.05','<0.05','<0.0001','<1','0.0009','0,0299','1584?','*0.05','**0.05','2228/','?', '4.03*']\n",
    "for t in test:\n",
    "    print(f\"{t.ljust(10)}{str(p.match(t)).ljust(50)}___|{p.match(t).group(1) if p.match(t) else '':>6}|___\")\n"
   ]
  },
  {
   "cell_type": "code",
   "execution_count": null,
   "metadata": {
    "ExecuteTime": {
     "end_time": "2022-02-05T07:20:13.889676Z",
     "start_time": "2022-02-05T07:20:13.731499Z"
    }
   },
   "outputs": [],
   "source": [
    "\n",
    "# die Zellen in Zahlen umwandeln, wo möglich\n",
    "new_df = _df.applymap(corr2)\n",
    "resdf = new_df[['SampleID','Unique Code','Oil/Fluid Long Name','Completed Date','Date Taken','Receipt Date','Booked In date','Billing Date','Due Date','Soot by FTIR (% wt)','Oil/Fluid Hours']]\n",
    "resdf.head(2)"
   ]
  }
 ],
 "metadata": {
  "hide_input": false,
  "interpreter": {
   "hash": "00e7f18031541dc25b2d1c6c1f90e0b122a906b1440859c87878a4f6b4e1a002"
  },
  "kernelspec": {
   "display_name": "Python 3 (ipykernel)",
   "language": "python",
   "name": "python3"
  },
  "language_info": {
   "codemirror_mode": {
    "name": "ipython",
    "version": 3
   },
   "file_extension": ".py",
   "mimetype": "text/x-python",
   "name": "python",
   "nbconvert_exporter": "python",
   "pygments_lexer": "ipython3",
   "version": "3.9.7"
  },
  "varInspector": {
   "cols": {
    "lenName": 16,
    "lenType": 16,
    "lenVar": 40
   },
   "kernels_config": {
    "python": {
     "delete_cmd_postfix": "",
     "delete_cmd_prefix": "del ",
     "library": "var_list.py",
     "varRefreshCmd": "print(var_dic_list())"
    },
    "r": {
     "delete_cmd_postfix": ") ",
     "delete_cmd_prefix": "rm(",
     "library": "var_list.r",
     "varRefreshCmd": "cat(var_dic_list()) "
    }
   },
   "types_to_exclude": [
    "module",
    "function",
    "builtin_function_or_method",
    "instance",
    "_Feature"
   ],
   "window_display": false
  }
 },
 "nbformat": 4,
 "nbformat_minor": 2
}
